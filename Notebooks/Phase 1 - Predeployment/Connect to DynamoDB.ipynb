{
 "cells": [
  {
   "cell_type": "code",
   "execution_count": null,
   "id": "1eaca43c",
   "metadata": {},
   "outputs": [],
   "source": []
  },
  {
   "cell_type": "code",
   "execution_count": 1,
   "id": "fa539140",
   "metadata": {},
   "outputs": [],
   "source": [
    "import boto3\n",
    "\n",
    "dynamodb = boto3.resource('dynamodb',region_name='us-east-2') "
   ]
  },
  {
   "cell_type": "code",
   "execution_count": 2,
   "id": "7f67ea48",
   "metadata": {},
   "outputs": [],
   "source": [
    "import pandas as pd\n",
    "game_log = pd.read_csv('../Data/game_log.csv')"
   ]
  },
  {
   "cell_type": "markdown",
   "id": "99682b3d",
   "metadata": {},
   "source": [
    "'''\n",
    "before creating the dyanmoDB tables you need to know how you are going to use the table to design the appropriate \n",
    "keys and indexes to create efficient lookup structures. \n",
    "\n",
    "game_log: \n",
    "c: this is what we're tryna figure out\n",
    "r: for read, we are going to give the table a date and retrieve games, the date doesn't have to be unique but the fucking games do\n",
    "u: we won't be updating records but we will be adding records to the database daily with new games\n",
    "d: We wont be deleting records because we need the entire game log duh?\n",
    "\n",
    "in dyanmoDB we have:\n",
    "Hash key: \n",
    "REQUIRED, for a single key table this is the only index you will have BUT this will limit you \n",
    "to only one read at a time with get item. Which is trash! and won't work if we are needing to index by date\n",
    "to get back multiple games. additionally if we were to only use the single key of say game_id to actually get all the \n",
    "games we would have to perform a SCAN! we dont want to ever perform scans? are we a fax machine get that shit out of \n",
    "here. We want to create an effective index structure to pick the shit we need fast and get on with our lives. \n",
    "\n",
    "What can we do? \n",
    "COMPOSITE KEY! \n",
    "Here we have both \n",
    "HASH and SORT KEY:\n",
    "Hash Key which is known as the partition key (for the game log case would be the GAME_DATE)\n",
    "\n",
    "Sort key which is known as the range key ( for the game_log case would be the GAME_ID ) \n",
    "\n",
    "Having this combination key structure allows us to use the QUERY functionality of dynamoDB which is what \n",
    "we need to efficiently look for games based of game date but also identify games uniquely. \n",
    "\n",
    "\n",
    "Before we create this table and upload our data we have to ask a few questions:\n",
    "\n",
    "For the game log table, will I EVER been querying/searching based of another ID? or column? ... \n",
    "\n",
    "The reason being, once you set your table structure with it's respective Keys and wotnot you cant go back! \n",
    "\n",
    "I REPEAT! once you set your table its done mate, you cant change that shit. \n",
    "\n",
    "So lets investigate the table\n",
    "''' "
   ]
  },
  {
   "cell_type": "markdown",
   "id": "1ab07680",
   "metadata": {},
   "source": [
    "## Create GAME_LOG table"
   ]
  },
  {
   "cell_type": "code",
   "execution_count": 30,
   "id": "1e82a64f",
   "metadata": {},
   "outputs": [],
   "source": [
    "game_log = game_log.drop('_id', axis = 1)"
   ]
  },
  {
   "cell_type": "code",
   "execution_count": 63,
   "id": "8344f3fe",
   "metadata": {},
   "outputs": [],
   "source": [
    "game_log_ddb = dynamodb.create_table(\n",
    "        TableName='game_log',\n",
    "        KeySchema=[\n",
    "            {\n",
    "                'AttributeName': 'GAME_DATE',\n",
    "                'KeyType': 'HASH'  # Partition key\n",
    "            },\n",
    "            {\n",
    "                'AttributeName': 'GAME_ID',\n",
    "                'KeyType': 'RANGE'\n",
    "            }\n",
    "        ],\n",
    "        AttributeDefinitions=[\n",
    "            {\n",
    "                'AttributeName': 'GAME_DATE',\n",
    "                'AttributeType': 'S'\n",
    "            },\n",
    "            {\n",
    "                'AttributeName': 'GAME_ID',\n",
    "                'AttributeType': 'N'\n",
    "            },\n",
    "\n",
    "        ],\n",
    "    BillingMode= 'PAY_PER_REQUEST',\n",
    "    ) "
   ]
  },
  {
   "cell_type": "code",
   "execution_count": 3,
   "id": "39cb313e",
   "metadata": {},
   "outputs": [],
   "source": [
    "from decimal import Decimal\n",
    "import json\n",
    "\n",
    "game_log_dict = game_log.drop([7731, 7732]).to_dict(orient = 'records', )\n",
    "\n",
    "#dropped because nan doesnt convert to decimal which is annoying!"
   ]
  },
  {
   "cell_type": "code",
   "execution_count": 65,
   "id": "360cc793",
   "metadata": {},
   "outputs": [],
   "source": [
    "game_log_json = [json.loads(json.dumps(item), parse_float=Decimal) for item in game_log_dict]"
   ]
  },
  {
   "cell_type": "code",
   "execution_count": 66,
   "id": "96a180f1",
   "metadata": {},
   "outputs": [
    {
     "name": "stdout",
     "output_type": "stream",
     "text": [
      "CPU times: user 4.72 s, sys: 109 ms, total: 4.83 s\n",
      "Wall time: 22.4 s\n"
     ]
    }
   ],
   "source": [
    "%%time\n",
    "missed_indexes = []\n",
    "with game_log_ddb.batch_writer() as batch:\n",
    "    for i in range(len(game_log_json)):\n",
    "        try:\n",
    "            batch.put_item(Item = game_log_json[i])\n",
    "        except:\n",
    "            missed_indexes.append(i)"
   ]
  },
  {
   "cell_type": "markdown",
   "id": "eee47c6b",
   "metadata": {},
   "source": [
    "# BEFORE WE CREATE MORE TABLES HOW THE FUCK DO WE QUERY THO LOL"
   ]
  },
  {
   "cell_type": "code",
   "execution_count": 67,
   "id": "0d7ba750",
   "metadata": {},
   "outputs": [],
   "source": [
    "from boto3.dynamodb.conditions import Key\n",
    "\n",
    "pd.DataFrame(data = game_log_ddb.query(\n",
    "    KeyConditionExpression=Key('GAME_DATE').eq('2022-01-01')\n",
    ")['Items'])"
   ]
  },
  {
   "cell_type": "markdown",
   "id": "49ee5974",
   "metadata": {},
   "source": [
    "## Create historical_pbp table"
   ]
  },
  {
   "cell_type": "code",
   "execution_count": 4,
   "id": "4bc1f0ac",
   "metadata": {},
   "outputs": [],
   "source": [
    "# historical_pbp = pd.read_csv('../Data/historical_pbp.csv')\n",
    "historical_pbp_modelled = pd.read_csv('../Data/historical_pbp_modelled.csv')\n",
    "\n",
    "# historical_pbp['PLAY_NUMBER'] = historical_pbp.groupby('GAME_ID').cumcount()\n",
    "\n",
    "historical_pbp_modelled['PLAY_NUMBER'] = historical_pbp_modelled.groupby('GAME_ID').cumcount()\n",
    "\n",
    "# historical_pbp = historical_pbp.drop('_id', axis = 1)\n",
    "historical_pbp_modelled = historical_pbp_modelled.drop('_id', axis = 1)\n"
   ]
  },
  {
   "cell_type": "code",
   "execution_count": 75,
   "id": "8dfca527",
   "metadata": {},
   "outputs": [],
   "source": [
    "#get rid of _id, \n",
    "historical_pbp = historical_pbp.astype(str).astype({'GAME_ID': int, 'PLAY_NUMBER':int})"
   ]
  },
  {
   "cell_type": "code",
   "execution_count": 5,
   "id": "fb6df449",
   "metadata": {},
   "outputs": [],
   "source": [
    "historical_pbp_modelled_dict = historical_pbp_modelled[~historical_pbp_modelled['home_team_win'].isna()].to_dict('records')\n",
    "historical_pbp_modelled_json = [json.loads(json.dumps(item), parse_float=Decimal) for item in historical_pbp_modelled_dict]"
   ]
  },
  {
   "cell_type": "markdown",
   "id": "4adf23c9",
   "metadata": {},
   "source": [
    "## How am I going to query the historical pbp\n",
    "\n",
    "\n",
    "... just going to retrieve the play by play innit? like nothing really else so the composite key can be\n",
    "GAME ID and PLAY_NUM\n",
    "\n",
    "\n",
    "## I DONT NEED HISTORICAL_PBP\n",
    "\n",
    "## HISTORICAL_PBP_MODLLED IS ENOUGH! "
   ]
  },
  {
   "cell_type": "code",
   "execution_count": 80,
   "id": "f95b3686",
   "metadata": {},
   "outputs": [],
   "source": [
    "# historical_pbp_ddb = dynamodb.create_table(\n",
    "#         TableName='historical_pbp',\n",
    "#         KeySchema=[\n",
    "#             {\n",
    "#                 'AttributeName': 'GAME_ID',\n",
    "#                 'KeyType': 'HASH'  # Partition key\n",
    "#             },\n",
    "#             {\n",
    "#                 'AttributeName': 'PLAY_NUMBER',\n",
    "#                 'KeyType': 'RANGE'\n",
    "#             }\n",
    "#         ],\n",
    "#         AttributeDefinitions=[\n",
    "#             {\n",
    "#                 'AttributeName': 'GAME_ID',\n",
    "#                 'AttributeType': 'N'\n",
    "#             },\n",
    "#             {\n",
    "#                 'AttributeName': 'PLAY_NUMBER',\n",
    "#                 'AttributeType': 'N'\n",
    "#             },\n",
    "\n",
    "#         ],\n",
    "#     BillingMode= 'PAY_PER_REQUEST',\n",
    "#     ) "
   ]
  },
  {
   "cell_type": "code",
   "execution_count": 79,
   "id": "791bbb19",
   "metadata": {},
   "outputs": [],
   "source": [
    "historical_pbp_dict = historical_pbp.to_dict('records')"
   ]
  },
  {
   "cell_type": "code",
   "execution_count": 6,
   "id": "e9946b42",
   "metadata": {},
   "outputs": [],
   "source": [
    "historical_pbp_modelled_ddb = dynamodb.create_table(\n",
    "        TableName='historical_pbp_modelled',\n",
    "        KeySchema=[\n",
    "            {\n",
    "                'AttributeName': 'GAME_ID',\n",
    "                'KeyType': 'HASH'\n",
    "            },\n",
    "            {\n",
    "                'AttributeName': 'PLAY_NUMBER',\n",
    "                'KeyType': 'RANGE'\n",
    "            }\n",
    "        ],\n",
    "        AttributeDefinitions=[\n",
    "            {\n",
    "                'AttributeName': 'GAME_ID',\n",
    "                'AttributeType': 'N'\n",
    "            },\n",
    "            {\n",
    "                'AttributeName': 'PLAY_NUMBER',\n",
    "                'AttributeType': 'N'\n",
    "            },\n",
    "\n",
    "        ],\n",
    "    BillingMode= 'PAY_PER_REQUEST',\n",
    "    ) "
   ]
  },
  {
   "cell_type": "code",
   "execution_count": 7,
   "id": "705fd5fd",
   "metadata": {},
   "outputs": [
    {
     "data": {
      "text/plain": [
       "3598846"
      ]
     },
     "execution_count": 7,
     "metadata": {},
     "output_type": "execute_result"
    }
   ],
   "source": [
    "len(historical_pbp_modelled_json)"
   ]
  },
  {
   "cell_type": "code",
   "execution_count": 9,
   "id": "04d4ffb5",
   "metadata": {},
   "outputs": [
    {
     "name": "stdout",
     "output_type": "stream",
     "text": [
      "CPU times: user 19min 44s, sys: 51.1 s, total: 20min 35s\n",
      "Wall time: 2h 25min 36s\n"
     ]
    }
   ],
   "source": [
    "%%time\n",
    "\n",
    "with historical_pbp_modelled_ddb.batch_writer() as batch:\n",
    "    for i in range(len(historical_pbp_modelled_json)):\n",
    "        batch.put_item(Item = historical_pbp_modelled_json[i])"
   ]
  },
  {
   "cell_type": "code",
   "execution_count": null,
   "id": "977fa0a1",
   "metadata": {},
   "outputs": [],
   "source": [
    "# https://docs.aws.amazon.com/amazondynamodb/latest/developerguide/GSI.html"
   ]
  }
 ],
 "metadata": {
  "kernelspec": {
   "display_name": "Python 3 (ipykernel)",
   "language": "python",
   "name": "python3"
  },
  "language_info": {
   "codemirror_mode": {
    "name": "ipython",
    "version": 3
   },
   "file_extension": ".py",
   "mimetype": "text/x-python",
   "name": "python",
   "nbconvert_exporter": "python",
   "pygments_lexer": "ipython3",
   "version": "3.9.9"
  }
 },
 "nbformat": 4,
 "nbformat_minor": 5
}
