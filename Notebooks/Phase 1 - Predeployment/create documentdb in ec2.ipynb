{
 "cells": [
  {
   "cell_type": "code",
   "execution_count": null,
   "id": "ffe1d577",
   "metadata": {},
   "outputs": [],
   "source": [
    "import pandas as pd\n",
    "from pymongo import MongoClient\n",
    "\n",
    "client = MongoClient('localhost', 27017)\n",
    "db = client['NBA']\n",
    "\n",
    "db.list_collection_names()"
   ]
  },
  {
   "cell_type": "code",
   "execution_count": null,
   "id": "32e4c52b",
   "metadata": {},
   "outputs": [],
   "source": [
    "pd.DataFrame.from_records(db.historical_pbp.find({'GAME_ID': 22100581}))"
   ]
  },
  {
   "cell_type": "code",
   "execution_count": null,
   "id": "13b66440",
   "metadata": {},
   "outputs": [],
   "source": [
    "historical_pbp = pd.DataFrame.from_records(db.historical_pbp.find())"
   ]
  },
  {
   "cell_type": "code",
   "execution_count": null,
   "id": "b0ca0b82",
   "metadata": {},
   "outputs": [],
   "source": [
    "historical_pbp_modelled = pd.DataFrame.from_records(db.historical_pbp_modelled.find())"
   ]
  },
  {
   "cell_type": "code",
   "execution_count": null,
   "id": "c8778abf",
   "metadata": {},
   "outputs": [],
   "source": [
    "game_log = pd.DataFrame.from_records(db.game_log.find())"
   ]
  },
  {
   "cell_type": "code",
   "execution_count": null,
   "id": "196140df",
   "metadata": {},
   "outputs": [],
   "source": [
    "historical_pbp.to_csv('historical_pbp.csv', index=False)\n",
    "historical_pbp_modelled.to_csv('historical_pbp_modelled.csv', index=False)\n",
    "game_log.to_csv('game_log.csv', index=False)"
   ]
  },
  {
   "cell_type": "code",
   "execution_count": null,
   "id": "57bd3c56",
   "metadata": {},
   "outputs": [],
   "source": [
    "# \n",
    "# db.list_collection_names()"
   ]
  },
  {
   "cell_type": "code",
   "execution_count": null,
   "id": "2faad847",
   "metadata": {},
   "outputs": [],
   "source": [
    "db = client['NBA']"
   ]
  },
  {
   "cell_type": "code",
   "execution_count": null,
   "id": "601e877c",
   "metadata": {},
   "outputs": [],
   "source": [
    "data = pd.read_csv('historical_pbp.csv', chunksize=5000)\n",
    "    "
   ]
  },
  {
   "cell_type": "code",
   "execution_count": null,
   "id": "34ba83ea",
   "metadata": {},
   "outputs": [],
   "source": [
    "for chunk in data:\n",
    "    print(chunk.shape)"
   ]
  },
  {
   "cell_type": "code",
   "execution_count": null,
   "id": "5c2c0f02",
   "metadata": {},
   "outputs": [],
   "source": []
  },
  {
   "cell_type": "code",
   "execution_count": null,
   "id": "3b387425",
   "metadata": {},
   "outputs": [],
   "source": [
    "# from pymongo import MongoClient, ASCENDING, DESCENDING\n",
    "\n",
    "# db.game_log.insert_many(all_games.to_dict('records'))\n",
    "\n",
    "# db.game_log.create_index([(\"GAME_ID\", ASCENDING)], unique=True)"
   ]
  },
  {
   "cell_type": "code",
   "execution_count": null,
   "id": "6936483a",
   "metadata": {},
   "outputs": [],
   "source": []
  }
 ],
 "metadata": {
  "kernelspec": {
   "display_name": "Python 3 (ipykernel)",
   "language": "python",
   "name": "python3"
  },
  "language_info": {
   "codemirror_mode": {
    "name": "ipython",
    "version": 3
   },
   "file_extension": ".py",
   "mimetype": "text/x-python",
   "name": "python",
   "nbconvert_exporter": "python",
   "pygments_lexer": "ipython3",
   "version": "3.9.9"
  }
 },
 "nbformat": 4,
 "nbformat_minor": 5
}
