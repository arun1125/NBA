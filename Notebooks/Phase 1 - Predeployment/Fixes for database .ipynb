{
 "cells": [
  {
   "cell_type": "code",
   "execution_count": 1,
   "id": "eb8220e4",
   "metadata": {},
   "outputs": [
    {
     "data": {
      "text/plain": [
       "['historical_raptor',\n",
       " 'player2k',\n",
       " 'shot_chart',\n",
       " 'game_log',\n",
       " 'historical_pbp_modelled',\n",
       " 'historical_pbp']"
      ]
     },
     "execution_count": 1,
     "metadata": {},
     "output_type": "execute_result"
    }
   ],
   "source": [
    "from pymongo import MongoClient\n",
    "\n",
    "client = MongoClient('localhost', 27017)\n",
    "db = client['NBA']\n",
    "\n",
    "db.list_collection_names()"
   ]
  },
  {
   "cell_type": "code",
   "execution_count": 2,
   "id": "e27a6508",
   "metadata": {},
   "outputs": [],
   "source": [
    "import pandas as pd\n",
    "import numpy as np\n",
    "from nba_api.stats.endpoints import playbyplayv2, leaguegamelog, leaguegamefinder\n",
    "from preprocess import feature_engineer\n",
    "from nba_helper import read_url_to_csv, elo_url\n",
    "from time import sleep"
   ]
  },
  {
   "cell_type": "code",
   "execution_count": null,
   "id": "28d4d679",
   "metadata": {},
   "outputs": [],
   "source": [
    "games_to_update_df[['Home', 'Away']] = games_to_update_df['MATCHUP'].str.split('vs.', expand=True)\n",
    "games_to_update_df.loc[:, 'Home'] = games_to_update_df['Home'].str.strip()\n",
    "games_to_update_df.loc[:, 'home_team_win'] = games_to_update_df['WL'].replace({'W':1, 'L':0})"
   ]
  },
  {
   "cell_type": "code",
   "execution_count": 148,
   "id": "af848ff8",
   "metadata": {},
   "outputs": [],
   "source": [
    "game_log = pd.DataFrame.from_records(db.game_log.find())"
   ]
  },
  {
   "cell_type": "code",
   "execution_count": 152,
   "id": "68c90f60",
   "metadata": {},
   "outputs": [
    {
     "data": {
      "text/html": [
       "<div>\n",
       "<style scoped>\n",
       "    .dataframe tbody tr th:only-of-type {\n",
       "        vertical-align: middle;\n",
       "    }\n",
       "\n",
       "    .dataframe tbody tr th {\n",
       "        vertical-align: top;\n",
       "    }\n",
       "\n",
       "    .dataframe thead th {\n",
       "        text-align: right;\n",
       "    }\n",
       "</style>\n",
       "<table border=\"1\" class=\"dataframe\">\n",
       "  <thead>\n",
       "    <tr style=\"text-align: right;\">\n",
       "      <th></th>\n",
       "      <th>_id</th>\n",
       "      <th>SEASON_ID</th>\n",
       "      <th>TEAM_ID</th>\n",
       "      <th>TEAM_ABBREVIATION</th>\n",
       "      <th>TEAM_NAME</th>\n",
       "      <th>GAME_ID</th>\n",
       "      <th>GAME_DATE</th>\n",
       "      <th>MATCHUP</th>\n",
       "      <th>WL</th>\n",
       "      <th>MIN</th>\n",
       "      <th>...</th>\n",
       "      <th>STL</th>\n",
       "      <th>BLK</th>\n",
       "      <th>TOV</th>\n",
       "      <th>PF</th>\n",
       "      <th>PTS</th>\n",
       "      <th>PLUS_MINUS</th>\n",
       "      <th>VIDEO_AVAILABLE</th>\n",
       "      <th>Home</th>\n",
       "      <th>Away</th>\n",
       "      <th>home_team_win</th>\n",
       "    </tr>\n",
       "  </thead>\n",
       "  <tbody>\n",
       "    <tr>\n",
       "      <th>0</th>\n",
       "      <td>61e9eb6cf0ee3d9953abc9ca</td>\n",
       "      <td>22015</td>\n",
       "      <td>1610612744</td>\n",
       "      <td>GSW</td>\n",
       "      <td>Golden State Warriors</td>\n",
       "      <td>21500003</td>\n",
       "      <td>2015-10-27</td>\n",
       "      <td>GSW vs. NOP</td>\n",
       "      <td>W</td>\n",
       "      <td>240</td>\n",
       "      <td>...</td>\n",
       "      <td>8</td>\n",
       "      <td>7</td>\n",
       "      <td>20</td>\n",
       "      <td>29</td>\n",
       "      <td>111</td>\n",
       "      <td>16</td>\n",
       "      <td>1</td>\n",
       "      <td>GSW</td>\n",
       "      <td>NOP</td>\n",
       "      <td>1.0</td>\n",
       "    </tr>\n",
       "    <tr>\n",
       "      <th>1</th>\n",
       "      <td>61e9eb6cf0ee3d9953abc9cb</td>\n",
       "      <td>22015</td>\n",
       "      <td>1610612741</td>\n",
       "      <td>CHI</td>\n",
       "      <td>Chicago Bulls</td>\n",
       "      <td>21500002</td>\n",
       "      <td>2015-10-27</td>\n",
       "      <td>CHI vs. CLE</td>\n",
       "      <td>W</td>\n",
       "      <td>240</td>\n",
       "      <td>...</td>\n",
       "      <td>6</td>\n",
       "      <td>10</td>\n",
       "      <td>13</td>\n",
       "      <td>22</td>\n",
       "      <td>97</td>\n",
       "      <td>2</td>\n",
       "      <td>1</td>\n",
       "      <td>CHI</td>\n",
       "      <td>CLE</td>\n",
       "      <td>1.0</td>\n",
       "    </tr>\n",
       "    <tr>\n",
       "      <th>2</th>\n",
       "      <td>61e9eb6cf0ee3d9953abc9cc</td>\n",
       "      <td>22015</td>\n",
       "      <td>1610612737</td>\n",
       "      <td>ATL</td>\n",
       "      <td>Atlanta Hawks</td>\n",
       "      <td>21500001</td>\n",
       "      <td>2015-10-27</td>\n",
       "      <td>ATL vs. DET</td>\n",
       "      <td>L</td>\n",
       "      <td>240</td>\n",
       "      <td>...</td>\n",
       "      <td>9</td>\n",
       "      <td>4</td>\n",
       "      <td>15</td>\n",
       "      <td>25</td>\n",
       "      <td>94</td>\n",
       "      <td>-12</td>\n",
       "      <td>1</td>\n",
       "      <td>ATL</td>\n",
       "      <td>DET</td>\n",
       "      <td>0.0</td>\n",
       "    </tr>\n",
       "    <tr>\n",
       "      <th>3</th>\n",
       "      <td>61e9eb6cf0ee3d9953abc9cd</td>\n",
       "      <td>22015</td>\n",
       "      <td>1610612747</td>\n",
       "      <td>LAL</td>\n",
       "      <td>Los Angeles Lakers</td>\n",
       "      <td>21500017</td>\n",
       "      <td>2015-10-28</td>\n",
       "      <td>LAL vs. MIN</td>\n",
       "      <td>L</td>\n",
       "      <td>240</td>\n",
       "      <td>...</td>\n",
       "      <td>2</td>\n",
       "      <td>4</td>\n",
       "      <td>14</td>\n",
       "      <td>29</td>\n",
       "      <td>111</td>\n",
       "      <td>-1</td>\n",
       "      <td>1</td>\n",
       "      <td>LAL</td>\n",
       "      <td>MIN</td>\n",
       "      <td>0.0</td>\n",
       "    </tr>\n",
       "    <tr>\n",
       "      <th>4</th>\n",
       "      <td>61e9eb6cf0ee3d9953abc9ce</td>\n",
       "      <td>22015</td>\n",
       "      <td>1610612756</td>\n",
       "      <td>PHX</td>\n",
       "      <td>Phoenix Suns</td>\n",
       "      <td>21500014</td>\n",
       "      <td>2015-10-28</td>\n",
       "      <td>PHX vs. DAL</td>\n",
       "      <td>L</td>\n",
       "      <td>240</td>\n",
       "      <td>...</td>\n",
       "      <td>3</td>\n",
       "      <td>3</td>\n",
       "      <td>18</td>\n",
       "      <td>30</td>\n",
       "      <td>95</td>\n",
       "      <td>-16</td>\n",
       "      <td>1</td>\n",
       "      <td>PHX</td>\n",
       "      <td>DAL</td>\n",
       "      <td>0.0</td>\n",
       "    </tr>\n",
       "    <tr>\n",
       "      <th>...</th>\n",
       "      <td>...</td>\n",
       "      <td>...</td>\n",
       "      <td>...</td>\n",
       "      <td>...</td>\n",
       "      <td>...</td>\n",
       "      <td>...</td>\n",
       "      <td>...</td>\n",
       "      <td>...</td>\n",
       "      <td>...</td>\n",
       "      <td>...</td>\n",
       "      <td>...</td>\n",
       "      <td>...</td>\n",
       "      <td>...</td>\n",
       "      <td>...</td>\n",
       "      <td>...</td>\n",
       "      <td>...</td>\n",
       "      <td>...</td>\n",
       "      <td>...</td>\n",
       "      <td>...</td>\n",
       "      <td>...</td>\n",
       "      <td>...</td>\n",
       "    </tr>\n",
       "    <tr>\n",
       "      <th>7726</th>\n",
       "      <td>61ea18649ec8be579a2f50c6</td>\n",
       "      <td>22021</td>\n",
       "      <td>1610612762</td>\n",
       "      <td>UTA</td>\n",
       "      <td>Utah Jazz</td>\n",
       "      <td>22100677</td>\n",
       "      <td>2022-01-19</td>\n",
       "      <td>UTA vs. HOU</td>\n",
       "      <td>L</td>\n",
       "      <td>240</td>\n",
       "      <td>...</td>\n",
       "      <td>7</td>\n",
       "      <td>5</td>\n",
       "      <td>9</td>\n",
       "      <td>16</td>\n",
       "      <td>111</td>\n",
       "      <td>-5</td>\n",
       "      <td>1</td>\n",
       "      <td>UTA</td>\n",
       "      <td>HOU</td>\n",
       "      <td>0.0</td>\n",
       "    </tr>\n",
       "    <tr>\n",
       "      <th>7727</th>\n",
       "      <td>61ea18649ec8be579a2f50c7</td>\n",
       "      <td>22021</td>\n",
       "      <td>1610612758</td>\n",
       "      <td>SAC</td>\n",
       "      <td>Sacramento Kings</td>\n",
       "      <td>22100679</td>\n",
       "      <td>2022-01-19</td>\n",
       "      <td>SAC vs. DET</td>\n",
       "      <td>L</td>\n",
       "      <td>240</td>\n",
       "      <td>...</td>\n",
       "      <td>4</td>\n",
       "      <td>8</td>\n",
       "      <td>7</td>\n",
       "      <td>17</td>\n",
       "      <td>131</td>\n",
       "      <td>-2</td>\n",
       "      <td>1</td>\n",
       "      <td>SAC</td>\n",
       "      <td>DET</td>\n",
       "      <td>0.0</td>\n",
       "    </tr>\n",
       "    <tr>\n",
       "      <th>7728</th>\n",
       "      <td>61ea18649ec8be579a2f50c8</td>\n",
       "      <td>22021</td>\n",
       "      <td>1610612743</td>\n",
       "      <td>DEN</td>\n",
       "      <td>Denver Nuggets</td>\n",
       "      <td>22100678</td>\n",
       "      <td>2022-01-19</td>\n",
       "      <td>DEN vs. LAC</td>\n",
       "      <td>W</td>\n",
       "      <td>265</td>\n",
       "      <td>...</td>\n",
       "      <td>9</td>\n",
       "      <td>3</td>\n",
       "      <td>12</td>\n",
       "      <td>15</td>\n",
       "      <td>130</td>\n",
       "      <td>2</td>\n",
       "      <td>1</td>\n",
       "      <td>DEN</td>\n",
       "      <td>LAC</td>\n",
       "      <td>1.0</td>\n",
       "    </tr>\n",
       "    <tr>\n",
       "      <th>7729</th>\n",
       "      <td>61ea18649ec8be579a2f50c9</td>\n",
       "      <td>22021</td>\n",
       "      <td>1610612747</td>\n",
       "      <td>LAL</td>\n",
       "      <td>Los Angeles Lakers</td>\n",
       "      <td>22100680</td>\n",
       "      <td>2022-01-19</td>\n",
       "      <td>LAL vs. IND</td>\n",
       "      <td>L</td>\n",
       "      <td>240</td>\n",
       "      <td>...</td>\n",
       "      <td>4</td>\n",
       "      <td>7</td>\n",
       "      <td>11</td>\n",
       "      <td>18</td>\n",
       "      <td>104</td>\n",
       "      <td>-7</td>\n",
       "      <td>1</td>\n",
       "      <td>LAL</td>\n",
       "      <td>IND</td>\n",
       "      <td>0.0</td>\n",
       "    </tr>\n",
       "    <tr>\n",
       "      <th>7730</th>\n",
       "      <td>61ea18649ec8be579a2f50ca</td>\n",
       "      <td>22021</td>\n",
       "      <td>1610612749</td>\n",
       "      <td>MIL</td>\n",
       "      <td>Milwaukee Bucks</td>\n",
       "      <td>22100674</td>\n",
       "      <td>2022-01-19</td>\n",
       "      <td>MIL vs. MEM</td>\n",
       "      <td>W</td>\n",
       "      <td>240</td>\n",
       "      <td>...</td>\n",
       "      <td>7</td>\n",
       "      <td>6</td>\n",
       "      <td>15</td>\n",
       "      <td>21</td>\n",
       "      <td>126</td>\n",
       "      <td>12</td>\n",
       "      <td>1</td>\n",
       "      <td>MIL</td>\n",
       "      <td>MEM</td>\n",
       "      <td>1.0</td>\n",
       "    </tr>\n",
       "  </tbody>\n",
       "</table>\n",
       "<p>7728 rows × 33 columns</p>\n",
       "</div>"
      ],
      "text/plain": [
       "                           _id SEASON_ID     TEAM_ID TEAM_ABBREVIATION  \\\n",
       "0     61e9eb6cf0ee3d9953abc9ca     22015  1610612744               GSW   \n",
       "1     61e9eb6cf0ee3d9953abc9cb     22015  1610612741               CHI   \n",
       "2     61e9eb6cf0ee3d9953abc9cc     22015  1610612737               ATL   \n",
       "3     61e9eb6cf0ee3d9953abc9cd     22015  1610612747               LAL   \n",
       "4     61e9eb6cf0ee3d9953abc9ce     22015  1610612756               PHX   \n",
       "...                        ...       ...         ...               ...   \n",
       "7726  61ea18649ec8be579a2f50c6     22021  1610612762               UTA   \n",
       "7727  61ea18649ec8be579a2f50c7     22021  1610612758               SAC   \n",
       "7728  61ea18649ec8be579a2f50c8     22021  1610612743               DEN   \n",
       "7729  61ea18649ec8be579a2f50c9     22021  1610612747               LAL   \n",
       "7730  61ea18649ec8be579a2f50ca     22021  1610612749               MIL   \n",
       "\n",
       "                  TEAM_NAME   GAME_ID   GAME_DATE      MATCHUP WL  MIN  ...  \\\n",
       "0     Golden State Warriors  21500003  2015-10-27  GSW vs. NOP  W  240  ...   \n",
       "1             Chicago Bulls  21500002  2015-10-27  CHI vs. CLE  W  240  ...   \n",
       "2             Atlanta Hawks  21500001  2015-10-27  ATL vs. DET  L  240  ...   \n",
       "3        Los Angeles Lakers  21500017  2015-10-28  LAL vs. MIN  L  240  ...   \n",
       "4              Phoenix Suns  21500014  2015-10-28  PHX vs. DAL  L  240  ...   \n",
       "...                     ...       ...         ...          ... ..  ...  ...   \n",
       "7726              Utah Jazz  22100677  2022-01-19  UTA vs. HOU  L  240  ...   \n",
       "7727       Sacramento Kings  22100679  2022-01-19  SAC vs. DET  L  240  ...   \n",
       "7728         Denver Nuggets  22100678  2022-01-19  DEN vs. LAC  W  265  ...   \n",
       "7729     Los Angeles Lakers  22100680  2022-01-19  LAL vs. IND  L  240  ...   \n",
       "7730        Milwaukee Bucks  22100674  2022-01-19  MIL vs. MEM  W  240  ...   \n",
       "\n",
       "      STL  BLK  TOV  PF  PTS  PLUS_MINUS  VIDEO_AVAILABLE  Home  Away  \\\n",
       "0       8    7   20  29  111          16                1   GSW   NOP   \n",
       "1       6   10   13  22   97           2                1   CHI   CLE   \n",
       "2       9    4   15  25   94         -12                1   ATL   DET   \n",
       "3       2    4   14  29  111          -1                1   LAL   MIN   \n",
       "4       3    3   18  30   95         -16                1   PHX   DAL   \n",
       "...   ...  ...  ...  ..  ...         ...              ...   ...   ...   \n",
       "7726    7    5    9  16  111          -5                1   UTA   HOU   \n",
       "7727    4    8    7  17  131          -2                1   SAC   DET   \n",
       "7728    9    3   12  15  130           2                1   DEN   LAC   \n",
       "7729    4    7   11  18  104          -7                1   LAL   IND   \n",
       "7730    7    6   15  21  126          12                1   MIL   MEM   \n",
       "\n",
       "      home_team_win  \n",
       "0               1.0  \n",
       "1               1.0  \n",
       "2               0.0  \n",
       "3               0.0  \n",
       "4               0.0  \n",
       "...             ...  \n",
       "7726            0.0  \n",
       "7727            0.0  \n",
       "7728            1.0  \n",
       "7729            0.0  \n",
       "7730            1.0  \n",
       "\n",
       "[7728 rows x 33 columns]"
      ]
     },
     "execution_count": 152,
     "metadata": {},
     "output_type": "execute_result"
    }
   ],
   "source": [
    "game_log.dropna(subset=['home_team_win'])"
   ]
  },
  {
   "cell_type": "code",
   "execution_count": 141,
   "id": "0caebfdf",
   "metadata": {},
   "outputs": [],
   "source": [
    "game_log = game_log.drop(['Home', 'Away', 'home_team_win'], axis = 1)"
   ]
  },
  {
   "cell_type": "code",
   "execution_count": 142,
   "id": "3188e9c4",
   "metadata": {},
   "outputs": [],
   "source": [
    "game_log[['Home', 'Away']] = game_log['MATCHUP'].str.split('vs.', expand=True)\n",
    "game_log.loc[:, 'Home'] = game_log['Home'].str.strip()\n",
    "game_log.loc[:, 'home_team_win'] = game_log['WL'].replace({'W':1, 'L':0})"
   ]
  },
  {
   "cell_type": "code",
   "execution_count": 143,
   "id": "02804d99",
   "metadata": {},
   "outputs": [],
   "source": [
    "db.game_log.drop()"
   ]
  },
  {
   "cell_type": "code",
   "execution_count": 144,
   "id": "8755f895",
   "metadata": {},
   "outputs": [
    {
     "data": {
      "text/plain": [
       "<pymongo.results.InsertManyResult at 0x122342440>"
      ]
     },
     "execution_count": 144,
     "metadata": {},
     "output_type": "execute_result"
    }
   ],
   "source": [
    "db.game_log.insert_many(game_log.to_dict('records'))\n"
   ]
  },
  {
   "cell_type": "code",
   "execution_count": 146,
   "id": "42c4b952",
   "metadata": {},
   "outputs": [],
   "source": [
    "from pymongo import ASCENDING"
   ]
  },
  {
   "cell_type": "code",
   "execution_count": 147,
   "id": "4332f9aa",
   "metadata": {},
   "outputs": [
    {
     "data": {
      "text/plain": [
       "'GAME_ID_1'"
      ]
     },
     "execution_count": 147,
     "metadata": {},
     "output_type": "execute_result"
    }
   ],
   "source": [
    "db.game_log.create_index([(\"GAME_ID\", ASCENDING)])"
   ]
  },
  {
   "cell_type": "code",
   "execution_count": 112,
   "id": "d9bb59e5",
   "metadata": {},
   "outputs": [],
   "source": [
    "games_to_delete_and_re_download = game_log.GAME_ID.unique()[-200:]"
   ]
  },
  {
   "cell_type": "code",
   "execution_count": 113,
   "id": "3695e263",
   "metadata": {},
   "outputs": [
    {
     "data": {
      "text/plain": [
       "<pymongo.results.DeleteResult at 0x124063480>"
      ]
     },
     "execution_count": 113,
     "metadata": {},
     "output_type": "execute_result"
    }
   ],
   "source": [
    "db.historical_pbp.delete_many({'GAME_ID': {'$in':games_to_delete_and_re_download.tolist()}})"
   ]
  },
  {
   "cell_type": "code",
   "execution_count": 114,
   "id": "5a1c2dd7",
   "metadata": {},
   "outputs": [
    {
     "data": {
      "text/plain": [
       "<pymongo.results.DeleteResult at 0x124225240>"
      ]
     },
     "execution_count": 114,
     "metadata": {},
     "output_type": "execute_result"
    }
   ],
   "source": [
    "db.historical_pbp_modelled.delete_many({'GAME_ID': {'$in':games_to_delete_and_re_download.tolist()}})"
   ]
  },
  {
   "cell_type": "code",
   "execution_count": 118,
   "id": "9af986c9",
   "metadata": {},
   "outputs": [],
   "source": [
    "historical_pbp = pd.DataFrame.from_records(db.historical_pbp.find())"
   ]
  },
  {
   "cell_type": "code",
   "execution_count": 119,
   "id": "cd02ac4d",
   "metadata": {},
   "outputs": [],
   "source": [
    "historical_pbp_modelled = pd.DataFrame.from_records(db.historical_pbp_modelled.find())"
   ]
  },
  {
   "cell_type": "code",
   "execution_count": 123,
   "id": "0889dbfd",
   "metadata": {},
   "outputs": [
    {
     "data": {
      "text/plain": [
       "7533"
      ]
     },
     "execution_count": 123,
     "metadata": {},
     "output_type": "execute_result"
    }
   ],
   "source": [
    "historical_pbp.GAME_ID.nunique()"
   ]
  },
  {
   "cell_type": "code",
   "execution_count": 124,
   "id": "c032100e",
   "metadata": {},
   "outputs": [
    {
     "data": {
      "text/plain": [
       "7533"
      ]
     },
     "execution_count": 124,
     "metadata": {},
     "output_type": "execute_result"
    }
   ],
   "source": [
    "historical_pbp_modelled.GAME_ID.nunique()"
   ]
  },
  {
   "cell_type": "code",
   "execution_count": 125,
   "id": "eff68bc9",
   "metadata": {},
   "outputs": [],
   "source": [
    "games_to_update = set(game_log.GAME_ID).difference(set(historical_pbp.GAME_ID.unique()))"
   ]
  },
  {
   "cell_type": "code",
   "execution_count": 126,
   "id": "f081da0d",
   "metadata": {},
   "outputs": [
    {
     "data": {
      "text/plain": [
       "200"
      ]
     },
     "execution_count": 126,
     "metadata": {},
     "output_type": "execute_result"
    }
   ],
   "source": [
    "len(games_to_update)"
   ]
  },
  {
   "cell_type": "code",
   "execution_count": 127,
   "id": "2f0222a8",
   "metadata": {},
   "outputs": [
    {
     "name": "stderr",
     "output_type": "stream",
     "text": [
      "/Users/arun/Projects/NBA/venv/lib/python3.9/site-packages/pandas/core/frame.py:3641: SettingWithCopyWarning: \n",
      "A value is trying to be set on a copy of a slice from a DataFrame.\n",
      "Try using .loc[row_indexer,col_indexer] = value instead\n",
      "\n",
      "See the caveats in the documentation: https://pandas.pydata.org/pandas-docs/stable/user_guide/indexing.html#returning-a-view-versus-a-copy\n",
      "  self[k1] = value[k2]\n",
      "/Users/arun/Projects/NBA/venv/lib/python3.9/site-packages/pandas/core/indexing.py:1773: SettingWithCopyWarning: \n",
      "A value is trying to be set on a copy of a slice from a DataFrame.\n",
      "Try using .loc[row_indexer,col_indexer] = value instead\n",
      "\n",
      "See the caveats in the documentation: https://pandas.pydata.org/pandas-docs/stable/user_guide/indexing.html#returning-a-view-versus-a-copy\n",
      "  self._setitem_single_column(ilocs[0], value, pi)\n"
     ]
    }
   ],
   "source": [
    "games_to_update_df = game_log[game_log.GAME_ID.isin(games_to_update)]\n",
    "\n",
    "games_to_update_df[['Home', 'Away']] = games_to_update_df['MATCHUP'].str.split('vs.', expand=True)\n",
    "games_to_update_df.loc[:, 'Home'] = games_to_update_df['Home'].str.strip()\n",
    "games_to_update_df.loc[:, 'home_team_win'] = games_to_update_df['WL'].replace({'W':1, 'L':0})"
   ]
  },
  {
   "cell_type": "code",
   "execution_count": 128,
   "id": "77fdb05b",
   "metadata": {},
   "outputs": [],
   "source": [
    "elo = read_url_to_csv(elo_url)\n",
    "elo = elo[elo['date'] > '2012-01-01']\n",
    "\n",
    "elo.loc[:, 'elo_difference'] = np.abs(elo['elo1_pre'] - elo['elo2_pre'])\n",
    "\n",
    "elo = elo[['date', 'team1', 'elo1_pre', 'elo2_pre', 'elo_difference']]\n",
    "\n",
    "elo['team1'] = elo['team1'].replace({'BRK':'BKN',\n",
    "                                    'PHO':'PHX',\n",
    "                                    'CHO':'CHA',})\n",
    "\n",
    "df = games_to_update_df.merge(elo, \n",
    "                     left_on=['GAME_DATE', 'Home'], \n",
    "                     right_on = ['date', 'team1'])[['GAME_ID', 'elo1_pre', 'elo2_pre', 'home_team_win', 'MATCHUP']]"
   ]
  },
  {
   "cell_type": "code",
   "execution_count": 129,
   "id": "b164dab6",
   "metadata": {},
   "outputs": [],
   "source": [
    "pbps = []\n",
    "for g_id in df['GAME_ID'].unique():\n",
    "    pbps.append(playbyplayv2.PlayByPlayV2(f'00{g_id}').get_data_frames()[0])\n",
    "    sleep(0.5)"
   ]
  },
  {
   "cell_type": "code",
   "execution_count": 132,
   "id": "56375cda",
   "metadata": {},
   "outputs": [],
   "source": [
    "pbp_df = pd.concat(pbps).astype({'GAME_ID':int})\n",
    "pbp_df_prepped = pbp_df.groupby('GAME_ID').apply(feature_engineer).reset_index(drop=True)\n",
    "\n",
    "final_df = pbp_df_prepped.merge(df, on=['GAME_ID'])"
   ]
  },
  {
   "cell_type": "code",
   "execution_count": 133,
   "id": "ae395f2f",
   "metadata": {},
   "outputs": [],
   "source": [
    "import tensorflow as tf"
   ]
  },
  {
   "cell_type": "code",
   "execution_count": 136,
   "id": "dba38b89",
   "metadata": {},
   "outputs": [],
   "source": [
    "wEloCols = ['home_poss', 'diff', 'time_remaining', 'OT_ind', 'elo1_pre', 'elo2_pre']\n",
    "wOEloCols = ['home_poss', 'diff', 'time_remaining', 'OT_ind']\n",
    "\n",
    "model = tf.keras.models.load_model('../Models/TF_model_w_elo.h5')\n",
    "model_wO_elo = tf.keras.models.load_model('../Models/TF_model_wO_elo.h5')\n",
    "\n",
    "final_df.loc[:, 'preds_w_elo'] = model.predict_on_batch(final_df.fillna(0)[wEloCols])\n",
    "final_df.loc[:, 'preds_wO_elo'] = model_wO_elo.predict_on_batch(final_df.fillna(0)[wOEloCols])"
   ]
  },
  {
   "cell_type": "code",
   "execution_count": 137,
   "id": "bae75e29",
   "metadata": {},
   "outputs": [
    {
     "data": {
      "text/plain": [
       "<pymongo.results.InsertManyResult at 0x12c83a780>"
      ]
     },
     "execution_count": 137,
     "metadata": {},
     "output_type": "execute_result"
    }
   ],
   "source": [
    "db.historical_pbp_modelled.insert_many(final_df.to_dict('records'))"
   ]
  },
  {
   "cell_type": "code",
   "execution_count": 138,
   "id": "82386dc9",
   "metadata": {},
   "outputs": [
    {
     "data": {
      "text/plain": [
       "<pymongo.results.InsertManyResult at 0x1222ad680>"
      ]
     },
     "execution_count": 138,
     "metadata": {},
     "output_type": "execute_result"
    }
   ],
   "source": [
    "db.historical_pbp.insert_many(pbp_df.to_dict('records'))"
   ]
  },
  {
   "cell_type": "code",
   "execution_count": null,
   "id": "8f21f32c",
   "metadata": {},
   "outputs": [],
   "source": []
  }
 ],
 "metadata": {
  "kernelspec": {
   "display_name": "Python 3 (ipykernel)",
   "language": "python",
   "name": "python3"
  },
  "language_info": {
   "codemirror_mode": {
    "name": "ipython",
    "version": 3
   },
   "file_extension": ".py",
   "mimetype": "text/x-python",
   "name": "python",
   "nbconvert_exporter": "python",
   "pygments_lexer": "ipython3",
   "version": "3.9.9"
  }
 },
 "nbformat": 4,
 "nbformat_minor": 5
}
