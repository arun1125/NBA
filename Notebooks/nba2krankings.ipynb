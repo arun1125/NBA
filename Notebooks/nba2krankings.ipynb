{
 "cells": [
  {
   "cell_type": "code",
   "execution_count": 1,
   "id": "3d8c6352-8fb5-43ed-af72-59ded4287417",
   "metadata": {},
   "outputs": [],
   "source": [
    "import requests\n",
    "\n",
    "\n",
    "\n",
    "import pandas as pd \n",
    "\n",
    "from bs4 import BeautifulSoup"
   ]
  },
  {
   "cell_type": "code",
   "execution_count": 11,
   "id": "3ea60968-92a0-48b3-9f07-4379bcc05826",
   "metadata": {},
   "outputs": [],
   "source": [
    "url_base = f'https://hoopshype.com/nba2k'"
   ]
  },
  {
   "cell_type": "code",
   "execution_count": 7,
   "id": "be01e842-054f-4107-9814-7d60223bedca",
   "metadata": {},
   "outputs": [],
   "source": [
    "seasons = [f'20{s-1}-20{s}' for s in range(14,23) ]"
   ]
  },
  {
   "cell_type": "code",
   "execution_count": 22,
   "id": "b4e0b41b-dfc4-44f8-9095-7f6f7f54da6d",
   "metadata": {},
   "outputs": [],
   "source": [
    "seasons_df = []\n",
    "\n",
    "for season in seasons:\n",
    "    url = f'{url_base}/{season}/'\n",
    "    html = requests.get(url)\n",
    "    df = pd.read_html(html.text)[0]\n",
    "    df = df.drop('Unnamed: 0', axis = 1)\n",
    "    df.columns = ['Player', 'Rating']\n",
    "    df['Season'] = season\n",
    "    seasons_df.append(df)"
   ]
  },
  {
   "cell_type": "code",
   "execution_count": 23,
   "id": "50905dc9-793d-45cf-93ea-8a5f2960f96f",
   "metadata": {},
   "outputs": [],
   "source": [
    "full_seasons_df = pd.concat(seasons_df)"
   ]
  },
  {
   "cell_type": "code",
   "execution_count": 28,
   "id": "c828ef90-f80b-46c2-beed-fe8e1126138b",
   "metadata": {},
   "outputs": [],
   "source": [
    "full_seasons_df.to_csv('../Data/nba_2k_ratings.csv', index = False)"
   ]
  },
  {
   "cell_type": "code",
   "execution_count": null,
   "id": "1cd63d4f-bbf6-4c07-ac45-08421143fc45",
   "metadata": {},
   "outputs": [],
   "source": []
  }
 ],
 "metadata": {
  "kernelspec": {
   "display_name": "Python 3 (ipykernel)",
   "language": "python",
   "name": "python3"
  },
  "language_info": {
   "codemirror_mode": {
    "name": "ipython",
    "version": 3
   },
   "file_extension": ".py",
   "mimetype": "text/x-python",
   "name": "python",
   "nbconvert_exporter": "python",
   "pygments_lexer": "ipython3",
   "version": "3.9.4"
  }
 },
 "nbformat": 4,
 "nbformat_minor": 5
}
