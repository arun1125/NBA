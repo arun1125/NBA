{
 "cells": [
  {
   "cell_type": "code",
   "execution_count": 1,
   "id": "8907aa21",
   "metadata": {},
   "outputs": [],
   "source": [
    "import pandas as pd\n",
    "import numpy as np\n",
    "import tensorflow as tf\n",
    "import boto3"
   ]
  },
  {
   "cell_type": "code",
   "execution_count": null,
   "id": "0d409015",
   "metadata": {},
   "outputs": [],
   "source": [
    "model = tf.keras.models.load_model('../../Models/TF_model_w_elo.h5')\n",
    "\n",
    "model_wO_elo = tf.keras.models.load_model('../../Models/TF_model_wO_elo.h5')"
   ]
  },
  {
   "cell_type": "code",
   "execution_count": 2,
   "id": "6e899ffb",
   "metadata": {},
   "outputs": [],
   "source": [
    "client = boto3.client('s3')\n",
    "\n",
    "client.upload_file(Filename = '../../Models/TF_model_w_elo.h5',\n",
    "                  Bucket = 'arun-nba',\n",
    "                  Key = 'Models/TF_model_w_elo.h5')"
   ]
  },
  {
   "cell_type": "code",
   "execution_count": null,
   "id": "6a19a084",
   "metadata": {},
   "outputs": [],
   "source": [
    "client.upload_file(Filename = '../../Models/TF_model_wO_elo.h5',\n",
    "                  Bucket = 'arun-nba',\n",
    "                  Key = 'Models/TF_model_wO_elo.h5')"
   ]
  },
  {
   "cell_type": "code",
   "execution_count": 3,
   "id": "16f83f56",
   "metadata": {},
   "outputs": [],
   "source": [
    "#downloads the model to a local path \n",
    "\n",
    "client.download_file(\n",
    "    'arun-nba',\n",
    "    'Models/TF_model_w_elo.h5',\n",
    "    'my_model.h5' #the local path\n",
    "                    )"
   ]
  },
  {
   "cell_type": "code",
   "execution_count": 4,
   "id": "1cc5656b",
   "metadata": {},
   "outputs": [
    {
     "name": "stderr",
     "output_type": "stream",
     "text": [
      "2022-01-31 19:48:05.561286: I tensorflow/core/platform/cpu_feature_guard.cc:151] This TensorFlow binary is optimized with oneAPI Deep Neural Network Library (oneDNN) to use the following CPU instructions in performance-critical operations:  AVX2 FMA\n",
      "To enable them in other operations, rebuild TensorFlow with the appropriate compiler flags.\n"
     ]
    }
   ],
   "source": [
    "model = tf.keras.models.load_model('my_model.h5')"
   ]
  },
  {
   "cell_type": "code",
   "execution_count": 5,
   "id": "79073113",
   "metadata": {},
   "outputs": [],
   "source": [
    "df = pd.read_csv('../../Data/historical_pbp_modelled.csv')"
   ]
  },
  {
   "cell_type": "code",
   "execution_count": 6,
   "id": "50742fae",
   "metadata": {},
   "outputs": [],
   "source": [
    "wEloCols = ['home_poss', 'diff', 'time_remaining', 'OT_ind', 'elo1_pre', 'elo2_pre']\n",
    "wOEloCols = ['home_poss', 'diff', 'time_remaining', 'OT_ind']"
   ]
  },
  {
   "cell_type": "code",
   "execution_count": 7,
   "id": "e45eca1f",
   "metadata": {},
   "outputs": [
    {
     "data": {
      "text/plain": [
       "array([[6.9001740e-01],\n",
       "       [6.8808436e-01],\n",
       "       [6.8784636e-01],\n",
       "       ...,\n",
       "       [1.5543931e-07],\n",
       "       [1.4935485e-07],\n",
       "       [1.7378667e-07]], dtype=float32)"
      ]
     },
     "execution_count": 7,
     "metadata": {},
     "output_type": "execute_result"
    }
   ],
   "source": [
    "model.predict_on_batch(df[wEloCols].values)"
   ]
  },
  {
   "cell_type": "code",
   "execution_count": 8,
   "id": "61cc3a37",
   "metadata": {},
   "outputs": [
    {
     "data": {
      "text/plain": [
       "0          6.900174e-01\n",
       "1          6.880844e-01\n",
       "2          6.878464e-01\n",
       "3          6.878213e-01\n",
       "4          6.877962e-01\n",
       "               ...     \n",
       "3601227    3.595199e-07\n",
       "3601228    3.454483e-07\n",
       "3601229    1.554395e-07\n",
       "3601230    1.493548e-07\n",
       "3601231    1.737867e-07\n",
       "Name: preds_w_elo, Length: 3601232, dtype: float64"
      ]
     },
     "execution_count": 8,
     "metadata": {},
     "output_type": "execute_result"
    }
   ],
   "source": [
    "df['preds_w_elo']"
   ]
  },
  {
   "cell_type": "code",
   "execution_count": null,
   "id": "5c77de2b",
   "metadata": {},
   "outputs": [],
   "source": []
  }
 ],
 "metadata": {
  "kernelspec": {
   "display_name": "Python 3 (ipykernel)",
   "language": "python",
   "name": "python3"
  },
  "language_info": {
   "codemirror_mode": {
    "name": "ipython",
    "version": 3
   },
   "file_extension": ".py",
   "mimetype": "text/x-python",
   "name": "python",
   "nbconvert_exporter": "python",
   "pygments_lexer": "ipython3",
   "version": "3.9.9"
  }
 },
 "nbformat": 4,
 "nbformat_minor": 5
}
