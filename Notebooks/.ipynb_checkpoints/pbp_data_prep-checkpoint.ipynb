{
 "cells": [
  {
   "cell_type": "code",
   "execution_count": 1,
   "id": "e0461911-7a2b-448a-af13-7bd53e71b29f",
   "metadata": {},
   "outputs": [],
   "source": [
    "import pandas as pd\n",
    "import numpy as np\n",
    "pd.set_option('display.max_columns', None)\n",
    "# pd.set_option('display.max_rows', None)\n",
    "df = pd.read_csv('../Data/recent_games_pbp.csv')"
   ]
  },
  {
   "cell_type": "code",
   "execution_count": 2,
   "id": "04b2dc7b-eed5-48c6-8eaf-486fb5b42ef4",
   "metadata": {},
   "outputs": [],
   "source": [
    "#score is arranged away-home \n",
    "\n",
    "#score 121-99 is uta-sac away-home\n",
    "\n",
    "# score 95-111 is NOP-GSW which is away-home"
   ]
  },
  {
   "cell_type": "code",
   "execution_count": 3,
   "id": "e798dbd5-e126-4e24-b602-c5913cecf259",
   "metadata": {},
   "outputs": [
    {
     "name": "stdout",
     "output_type": "stream",
     "text": [
      "CPU times: user 48.5 s, sys: 2.23 s, total: 50.8 s\n",
      "Wall time: 51.2 s\n"
     ]
    }
   ],
   "source": [
    "%%time\n",
    "df[['home_true', 'visitor_true']] = df[['HOMEDESCRIPTION','VISITORDESCRIPTION']].notnull().astype(int)\n",
    "\n",
    "df['block'] = df['HOMEDESCRIPTION'].str.contains(\"BLOCK\").fillna(False)\n",
    "df['steal'] = df['HOMEDESCRIPTION'].str.contains(\"STEAL\").fillna(False)\n",
    "\n",
    "def home_poss(d):\n",
    "    if (d['home_true'] == 1) & (d['visitor_true']==0):\n",
    "        return 1\n",
    "    elif (d['home_true'] == 0) & (d['visitor_true']==1):\n",
    "        return 0\n",
    "    else:\n",
    "        if d['block'] or d['steal']:\n",
    "            return 1\n",
    "        else:\n",
    "            return 0\n",
    "df['home_poss'] = df.apply(home_poss, axis = 1)\n",
    "df['score'] = df.groupby('GAME_ID')['SCORE'].ffill().fillna('0-0')\n",
    "df[['away_score', 'home_score']] = df['score'].str.split('-', expand=True)\n",
    "df['diff'] = pd.to_numeric(df['home_score']) - pd.to_numeric(df['away_score'])"
   ]
  },
  {
   "cell_type": "code",
   "execution_count": 5,
   "id": "2bb3f93c-c6b2-41f0-a74f-7862050cbe8f",
   "metadata": {},
   "outputs": [
    {
     "data": {
      "text/plain": [
       "4    845583\n",
       "2    834419\n",
       "3    798418\n",
       "1    784607\n",
       "5     22295\n",
       "6      2574\n",
       "7       320\n",
       "8       191\n",
       "Name: PERIOD, dtype: int64"
      ]
     },
     "execution_count": 5,
     "metadata": {},
     "output_type": "execute_result"
    }
   ],
   "source": [
    "df['PERIOD'].value_counts()"
   ]
  },
  {
   "cell_type": "code",
   "execution_count": 6,
   "id": "f9c4b0ef-1c13-4bb4-8a4e-0a02311f9c5c",
   "metadata": {},
   "outputs": [],
   "source": [
    "df['OT_ind'] = (df['PERIOD']-4).clip(lower=0)"
   ]
  },
  {
   "cell_type": "code",
   "execution_count": 7,
   "id": "54a7fd6c-858d-48d7-8a5c-35d57aa9a904",
   "metadata": {},
   "outputs": [],
   "source": [
    "from datetime import datetime\n",
    "\n",
    "def str_to_time(str1):\n",
    "    time_ = datetime.strptime(str1, \"%M:%S\")\n",
    "    return time_.second + time_.minute*60"
   ]
  },
  {
   "cell_type": "code",
   "execution_count": 8,
   "id": "cc450ab2-6d9b-4219-8e77-c69f4369ee54",
   "metadata": {},
   "outputs": [],
   "source": [
    "df['seconds'] = df['PCTIMESTRING'].apply(str_to_time)\n",
    "# df['seconds_left'] = df['seconds'].where(df['seconds']!=0) * (5-df['PERIOD'])"
   ]
  },
  {
   "cell_type": "code",
   "execution_count": 9,
   "id": "a37392bb-d941-4cac-ba49-edab327ac248",
   "metadata": {},
   "outputs": [],
   "source": [
    "def find_seconds_left(x):\n",
    "    if x == 1:\n",
    "        return 3*720\n",
    "    elif x == 2: \n",
    "        return 2*720\n",
    "    elif x == 3:\n",
    "        return 720\n",
    "    else:\n",
    "        return 0"
   ]
  },
  {
   "cell_type": "code",
   "execution_count": 10,
   "id": "c38bf767-e9df-4f20-9c11-591f672e867b",
   "metadata": {},
   "outputs": [],
   "source": [
    "df['seconds_left_in_game_from_quarter'] = df['PERIOD'].apply(find_seconds_left)"
   ]
  },
  {
   "cell_type": "code",
   "execution_count": 11,
   "id": "4a722c73-c31a-4bf4-8abf-3852e9ac3f51",
   "metadata": {},
   "outputs": [],
   "source": [
    "df['time_remaining'] = df['seconds'] + df['seconds_left_in_game_from_quarter']"
   ]
  },
  {
   "cell_type": "code",
   "execution_count": 13,
   "id": "f1ac9cd4-6f1f-4651-88d2-136d54ca44e3",
   "metadata": {
    "jupyter": {
     "source_hidden": true
    },
    "tags": []
   },
   "outputs": [
    {
     "data": {
      "text/plain": [
       "0    2880\n",
       "1    2880\n",
       "2    2866\n",
       "3    2865\n",
       "4    2855\n",
       "Name: time_remaining, dtype: int64"
      ]
     },
     "execution_count": 13,
     "metadata": {},
     "output_type": "execute_result"
    }
   ],
   "source": [
    "df['time_remaining'].head()"
   ]
  },
  {
   "cell_type": "code",
   "execution_count": 15,
   "id": "71243054-51ff-493e-933e-5db9c6d81e6a",
   "metadata": {},
   "outputs": [],
   "source": [
    "home_team_win = df.groupby('GAME_ID')['diff'].last().clip(lower=0, upper=1).rename('home_team_win')"
   ]
  },
  {
   "cell_type": "code",
   "execution_count": null,
   "id": "238edab0-39d9-49ed-b0fa-c6876de63d5e",
   "metadata": {},
   "outputs": [],
   "source": []
  },
  {
   "cell_type": "code",
   "execution_count": 16,
   "id": "6da17a7b-da79-4d28-97e6-e12a31112227",
   "metadata": {},
   "outputs": [],
   "source": [
    "data = df[['GAME_ID','home_poss', 'diff', 'time_remaining', 'OT_ind']]"
   ]
  },
  {
   "cell_type": "code",
   "execution_count": 18,
   "id": "0273a9e9-87d0-45a2-b583-e4f6e480e59e",
   "metadata": {},
   "outputs": [],
   "source": [
    "data = data.merge(home_team_win, left_on='GAME_ID', right_index=True)\n",
    "data.to_csv('../Data/pbp_modelling_data_no_3s.csv', index=False)"
   ]
  },
  {
   "cell_type": "code",
   "execution_count": 19,
   "id": "2d5af8af-9b1b-4078-abae-f6c318a0fa15",
   "metadata": {},
   "outputs": [
    {
     "data": {
      "text/html": [
       "<div>\n",
       "<style scoped>\n",
       "    .dataframe tbody tr th:only-of-type {\n",
       "        vertical-align: middle;\n",
       "    }\n",
       "\n",
       "    .dataframe tbody tr th {\n",
       "        vertical-align: top;\n",
       "    }\n",
       "\n",
       "    .dataframe thead th {\n",
       "        text-align: right;\n",
       "    }\n",
       "</style>\n",
       "<table border=\"1\" class=\"dataframe\">\n",
       "  <thead>\n",
       "    <tr style=\"text-align: right;\">\n",
       "      <th></th>\n",
       "      <th>GAME_ID</th>\n",
       "      <th>home_poss</th>\n",
       "      <th>diff</th>\n",
       "      <th>time_remaining</th>\n",
       "      <th>OT_ind</th>\n",
       "      <th>home_team_win</th>\n",
       "    </tr>\n",
       "  </thead>\n",
       "  <tbody>\n",
       "    <tr>\n",
       "      <th>0</th>\n",
       "      <td>21500003</td>\n",
       "      <td>0</td>\n",
       "      <td>0</td>\n",
       "      <td>2880</td>\n",
       "      <td>0</td>\n",
       "      <td>1</td>\n",
       "    </tr>\n",
       "    <tr>\n",
       "      <th>1</th>\n",
       "      <td>21500003</td>\n",
       "      <td>1</td>\n",
       "      <td>0</td>\n",
       "      <td>2880</td>\n",
       "      <td>0</td>\n",
       "      <td>1</td>\n",
       "    </tr>\n",
       "    <tr>\n",
       "      <th>2</th>\n",
       "      <td>21500003</td>\n",
       "      <td>0</td>\n",
       "      <td>0</td>\n",
       "      <td>2866</td>\n",
       "      <td>0</td>\n",
       "      <td>1</td>\n",
       "    </tr>\n",
       "    <tr>\n",
       "      <th>3</th>\n",
       "      <td>21500003</td>\n",
       "      <td>1</td>\n",
       "      <td>0</td>\n",
       "      <td>2865</td>\n",
       "      <td>0</td>\n",
       "      <td>1</td>\n",
       "    </tr>\n",
       "    <tr>\n",
       "      <th>4</th>\n",
       "      <td>21500003</td>\n",
       "      <td>1</td>\n",
       "      <td>3</td>\n",
       "      <td>2855</td>\n",
       "      <td>0</td>\n",
       "      <td>1</td>\n",
       "    </tr>\n",
       "    <tr>\n",
       "      <th>...</th>\n",
       "      <td>...</td>\n",
       "      <td>...</td>\n",
       "      <td>...</td>\n",
       "      <td>...</td>\n",
       "      <td>...</td>\n",
       "      <td>...</td>\n",
       "    </tr>\n",
       "    <tr>\n",
       "      <th>3288402</th>\n",
       "      <td>22001077</td>\n",
       "      <td>0</td>\n",
       "      <td>-24</td>\n",
       "      <td>14</td>\n",
       "      <td>0</td>\n",
       "      <td>0</td>\n",
       "    </tr>\n",
       "    <tr>\n",
       "      <th>3288403</th>\n",
       "      <td>22001077</td>\n",
       "      <td>0</td>\n",
       "      <td>-25</td>\n",
       "      <td>14</td>\n",
       "      <td>0</td>\n",
       "      <td>0</td>\n",
       "    </tr>\n",
       "    <tr>\n",
       "      <th>3288404</th>\n",
       "      <td>22001077</td>\n",
       "      <td>1</td>\n",
       "      <td>-22</td>\n",
       "      <td>0</td>\n",
       "      <td>0</td>\n",
       "      <td>0</td>\n",
       "    </tr>\n",
       "    <tr>\n",
       "      <th>3288405</th>\n",
       "      <td>22001077</td>\n",
       "      <td>0</td>\n",
       "      <td>-22</td>\n",
       "      <td>0</td>\n",
       "      <td>0</td>\n",
       "      <td>0</td>\n",
       "    </tr>\n",
       "    <tr>\n",
       "      <th>3288406</th>\n",
       "      <td>22001077</td>\n",
       "      <td>0</td>\n",
       "      <td>-22</td>\n",
       "      <td>0</td>\n",
       "      <td>0</td>\n",
       "      <td>0</td>\n",
       "    </tr>\n",
       "  </tbody>\n",
       "</table>\n",
       "<p>3288407 rows × 6 columns</p>\n",
       "</div>"
      ],
      "text/plain": [
       "          GAME_ID  home_poss  diff  time_remaining  OT_ind  home_team_win\n",
       "0        21500003          0     0            2880       0              1\n",
       "1        21500003          1     0            2880       0              1\n",
       "2        21500003          0     0            2866       0              1\n",
       "3        21500003          1     0            2865       0              1\n",
       "4        21500003          1     3            2855       0              1\n",
       "...           ...        ...   ...             ...     ...            ...\n",
       "3288402  22001077          0   -24              14       0              0\n",
       "3288403  22001077          0   -25              14       0              0\n",
       "3288404  22001077          1   -22               0       0              0\n",
       "3288405  22001077          0   -22               0       0              0\n",
       "3288406  22001077          0   -22               0       0              0\n",
       "\n",
       "[3288407 rows x 6 columns]"
      ]
     },
     "execution_count": 19,
     "metadata": {},
     "output_type": "execute_result"
    }
   ],
   "source": [
    "data"
   ]
  },
  {
   "cell_type": "code",
   "execution_count": 77,
   "id": "884d92c2-28b6-47b1-a58a-2ebb9c149cc6",
   "metadata": {},
   "outputs": [],
   "source": [
    "game_ids = list(df['GAME_ID'].sort_values().unique())\n",
    "iterables = [game_ids, list(range(2880,-1,-1))]\n",
    "countdown = pd.DataFrame(index = pd.MultiIndex.from_product(iterables, names=[\"GAME_ID\", \"time_remaining\"])).reset_index()"
   ]
  },
  {
   "cell_type": "code",
   "execution_count": 253,
   "id": "519b7ba3-3fc3-4cbb-adf5-cfb3f7db6acc",
   "metadata": {},
   "outputs": [
    {
     "data": {
      "text/html": [
       "<div>\n",
       "<style scoped>\n",
       "    .dataframe tbody tr th:only-of-type {\n",
       "        vertical-align: middle;\n",
       "    }\n",
       "\n",
       "    .dataframe tbody tr th {\n",
       "        vertical-align: top;\n",
       "    }\n",
       "\n",
       "    .dataframe thead th {\n",
       "        text-align: right;\n",
       "    }\n",
       "</style>\n",
       "<table border=\"1\" class=\"dataframe\">\n",
       "  <thead>\n",
       "    <tr style=\"text-align: right;\">\n",
       "      <th></th>\n",
       "      <th>SEASON_ID</th>\n",
       "      <th>TEAM_ID</th>\n",
       "      <th>TEAM_ABBREVIATION</th>\n",
       "      <th>TEAM_NAME</th>\n",
       "      <th>GAME_ID</th>\n",
       "      <th>GAME_DATE</th>\n",
       "      <th>MATCHUP</th>\n",
       "      <th>WL</th>\n",
       "      <th>MIN</th>\n",
       "      <th>PTS</th>\n",
       "      <th>...</th>\n",
       "      <th>FT_PCT</th>\n",
       "      <th>OREB</th>\n",
       "      <th>DREB</th>\n",
       "      <th>REB</th>\n",
       "      <th>AST</th>\n",
       "      <th>STL</th>\n",
       "      <th>BLK</th>\n",
       "      <th>TOV</th>\n",
       "      <th>PF</th>\n",
       "      <th>PLUS_MINUS</th>\n",
       "    </tr>\n",
       "  </thead>\n",
       "  <tbody>\n",
       "    <tr>\n",
       "      <th>26062</th>\n",
       "      <td>22015</td>\n",
       "      <td>1610612747</td>\n",
       "      <td>LAL</td>\n",
       "      <td>Los Angeles Lakers</td>\n",
       "      <td>0021501228</td>\n",
       "      <td>2016-04-13</td>\n",
       "      <td>LAL vs. UTA</td>\n",
       "      <td>W</td>\n",
       "      <td>239</td>\n",
       "      <td>101</td>\n",
       "      <td>...</td>\n",
       "      <td>0.867</td>\n",
       "      <td>8</td>\n",
       "      <td>39</td>\n",
       "      <td>47</td>\n",
       "      <td>19</td>\n",
       "      <td>6</td>\n",
       "      <td>3</td>\n",
       "      <td>13</td>\n",
       "      <td>17</td>\n",
       "      <td>5.0</td>\n",
       "    </tr>\n",
       "  </tbody>\n",
       "</table>\n",
       "<p>1 rows × 28 columns</p>\n",
       "</div>"
      ],
      "text/plain": [
       "      SEASON_ID     TEAM_ID TEAM_ABBREVIATION           TEAM_NAME     GAME_ID  \\\n",
       "26062     22015  1610612747               LAL  Los Angeles Lakers  0021501228   \n",
       "\n",
       "        GAME_DATE      MATCHUP WL  MIN  PTS  ...  FT_PCT  OREB  DREB  REB  \\\n",
       "26062  2016-04-13  LAL vs. UTA  W  239  101  ...   0.867     8    39   47   \n",
       "\n",
       "       AST  STL  BLK  TOV  PF  PLUS_MINUS  \n",
       "26062   19    6    3   13  17         5.0  \n",
       "\n",
       "[1 rows x 28 columns]"
      ]
     },
     "execution_count": 253,
     "metadata": {},
     "output_type": "execute_result"
    }
   ],
   "source": [
    "lal[lal.GAME_DATE.str.contains('2016-04-13')]"
   ]
  },
  {
   "cell_type": "code",
   "execution_count": 253,
   "id": "e101446b-f2b0-49e8-b543-b07bb38df55c",
   "metadata": {},
   "outputs": [
    {
     "data": {
      "text/html": [
       "<div>\n",
       "<style scoped>\n",
       "    .dataframe tbody tr th:only-of-type {\n",
       "        vertical-align: middle;\n",
       "    }\n",
       "\n",
       "    .dataframe tbody tr th {\n",
       "        vertical-align: top;\n",
       "    }\n",
       "\n",
       "    .dataframe thead th {\n",
       "        text-align: right;\n",
       "    }\n",
       "</style>\n",
       "<table border=\"1\" class=\"dataframe\">\n",
       "  <thead>\n",
       "    <tr style=\"text-align: right;\">\n",
       "      <th></th>\n",
       "      <th>SEASON_ID</th>\n",
       "      <th>TEAM_ID</th>\n",
       "      <th>TEAM_ABBREVIATION</th>\n",
       "      <th>TEAM_NAME</th>\n",
       "      <th>GAME_ID</th>\n",
       "      <th>GAME_DATE</th>\n",
       "      <th>MATCHUP</th>\n",
       "      <th>WL</th>\n",
       "      <th>MIN</th>\n",
       "      <th>PTS</th>\n",
       "      <th>...</th>\n",
       "      <th>FT_PCT</th>\n",
       "      <th>OREB</th>\n",
       "      <th>DREB</th>\n",
       "      <th>REB</th>\n",
       "      <th>AST</th>\n",
       "      <th>STL</th>\n",
       "      <th>BLK</th>\n",
       "      <th>TOV</th>\n",
       "      <th>PF</th>\n",
       "      <th>PLUS_MINUS</th>\n",
       "    </tr>\n",
       "  </thead>\n",
       "  <tbody>\n",
       "    <tr>\n",
       "      <th>26062</th>\n",
       "      <td>22015</td>\n",
       "      <td>1610612747</td>\n",
       "      <td>LAL</td>\n",
       "      <td>Los Angeles Lakers</td>\n",
       "      <td>0021501228</td>\n",
       "      <td>2016-04-13</td>\n",
       "      <td>LAL vs. UTA</td>\n",
       "      <td>W</td>\n",
       "      <td>239</td>\n",
       "      <td>101</td>\n",
       "      <td>...</td>\n",
       "      <td>0.867</td>\n",
       "      <td>8</td>\n",
       "      <td>39</td>\n",
       "      <td>47</td>\n",
       "      <td>19</td>\n",
       "      <td>6</td>\n",
       "      <td>3</td>\n",
       "      <td>13</td>\n",
       "      <td>17</td>\n",
       "      <td>5.0</td>\n",
       "    </tr>\n",
       "  </tbody>\n",
       "</table>\n",
       "<p>1 rows × 28 columns</p>\n",
       "</div>"
      ],
      "text/plain": [
       "      SEASON_ID     TEAM_ID TEAM_ABBREVIATION           TEAM_NAME     GAME_ID  \\\n",
       "26062     22015  1610612747               LAL  Los Angeles Lakers  0021501228   \n",
       "\n",
       "        GAME_DATE      MATCHUP WL  MIN  PTS  ...  FT_PCT  OREB  DREB  REB  \\\n",
       "26062  2016-04-13  LAL vs. UTA  W  239  101  ...   0.867     8    39   47   \n",
       "\n",
       "       AST  STL  BLK  TOV  PF  PLUS_MINUS  \n",
       "26062   19    6    3   13  17         5.0  \n",
       "\n",
       "[1 rows x 28 columns]"
      ]
     },
     "execution_count": 253,
     "metadata": {},
     "output_type": "execute_result"
    }
   ],
   "source": [
    "lal[lal.GAME_DATE.str.contains('2016-04-13')]"
   ]
  },
  {
   "cell_type": "code",
   "execution_count": 253,
   "id": "f4342399-4307-42bb-b5e1-598e6254e8e0",
   "metadata": {},
   "outputs": [
    {
     "data": {
      "text/html": [
       "<div>\n",
       "<style scoped>\n",
       "    .dataframe tbody tr th:only-of-type {\n",
       "        vertical-align: middle;\n",
       "    }\n",
       "\n",
       "    .dataframe tbody tr th {\n",
       "        vertical-align: top;\n",
       "    }\n",
       "\n",
       "    .dataframe thead th {\n",
       "        text-align: right;\n",
       "    }\n",
       "</style>\n",
       "<table border=\"1\" class=\"dataframe\">\n",
       "  <thead>\n",
       "    <tr style=\"text-align: right;\">\n",
       "      <th></th>\n",
       "      <th>SEASON_ID</th>\n",
       "      <th>TEAM_ID</th>\n",
       "      <th>TEAM_ABBREVIATION</th>\n",
       "      <th>TEAM_NAME</th>\n",
       "      <th>GAME_ID</th>\n",
       "      <th>GAME_DATE</th>\n",
       "      <th>MATCHUP</th>\n",
       "      <th>WL</th>\n",
       "      <th>MIN</th>\n",
       "      <th>PTS</th>\n",
       "      <th>...</th>\n",
       "      <th>FT_PCT</th>\n",
       "      <th>OREB</th>\n",
       "      <th>DREB</th>\n",
       "      <th>REB</th>\n",
       "      <th>AST</th>\n",
       "      <th>STL</th>\n",
       "      <th>BLK</th>\n",
       "      <th>TOV</th>\n",
       "      <th>PF</th>\n",
       "      <th>PLUS_MINUS</th>\n",
       "    </tr>\n",
       "  </thead>\n",
       "  <tbody>\n",
       "    <tr>\n",
       "      <th>26062</th>\n",
       "      <td>22015</td>\n",
       "      <td>1610612747</td>\n",
       "      <td>LAL</td>\n",
       "      <td>Los Angeles Lakers</td>\n",
       "      <td>0021501228</td>\n",
       "      <td>2016-04-13</td>\n",
       "      <td>LAL vs. UTA</td>\n",
       "      <td>W</td>\n",
       "      <td>239</td>\n",
       "      <td>101</td>\n",
       "      <td>...</td>\n",
       "      <td>0.867</td>\n",
       "      <td>8</td>\n",
       "      <td>39</td>\n",
       "      <td>47</td>\n",
       "      <td>19</td>\n",
       "      <td>6</td>\n",
       "      <td>3</td>\n",
       "      <td>13</td>\n",
       "      <td>17</td>\n",
       "      <td>5.0</td>\n",
       "    </tr>\n",
       "  </tbody>\n",
       "</table>\n",
       "<p>1 rows × 28 columns</p>\n",
       "</div>"
      ],
      "text/plain": [
       "      SEASON_ID     TEAM_ID TEAM_ABBREVIATION           TEAM_NAME     GAME_ID  \\\n",
       "26062     22015  1610612747               LAL  Los Angeles Lakers  0021501228   \n",
       "\n",
       "        GAME_DATE      MATCHUP WL  MIN  PTS  ...  FT_PCT  OREB  DREB  REB  \\\n",
       "26062  2016-04-13  LAL vs. UTA  W  239  101  ...   0.867     8    39   47   \n",
       "\n",
       "       AST  STL  BLK  TOV  PF  PLUS_MINUS  \n",
       "26062   19    6    3   13  17         5.0  \n",
       "\n",
       "[1 rows x 28 columns]"
      ]
     },
     "execution_count": 253,
     "metadata": {},
     "output_type": "execute_result"
    }
   ],
   "source": [
    "lal[lal.GAME_DATE.str.contains('2016-04-13')]"
   ]
  },
  {
   "cell_type": "code",
   "execution_count": 108,
   "id": "be2fe31f-6fa0-41ca-9bbb-6f8965f48f6b",
   "metadata": {},
   "outputs": [],
   "source": [
    "final = countdown.merge(data, on = ['GAME_ID', 'time_remaining'], how='left').ffill()"
   ]
  },
  {
   "cell_type": "code",
   "execution_count": 109,
   "id": "b95b7f55-553d-459f-abe4-dad02efbe511",
   "metadata": {},
   "outputs": [],
   "source": [
    "final = final[final['time_remaining'].isin(range(0,2883,3))]"
   ]
  },
  {
   "cell_type": "code",
   "execution_count": 110,
   "id": "858c51fd-566f-4b2e-a9e7-da62ec110006",
   "metadata": {},
   "outputs": [
    {
     "data": {
      "text/html": [
       "<div>\n",
       "<style scoped>\n",
       "    .dataframe tbody tr th:only-of-type {\n",
       "        vertical-align: middle;\n",
       "    }\n",
       "\n",
       "    .dataframe tbody tr th {\n",
       "        vertical-align: top;\n",
       "    }\n",
       "\n",
       "    .dataframe thead th {\n",
       "        text-align: right;\n",
       "    }\n",
       "</style>\n",
       "<table border=\"1\" class=\"dataframe\">\n",
       "  <thead>\n",
       "    <tr style=\"text-align: right;\">\n",
       "      <th></th>\n",
       "      <th>GAME_ID</th>\n",
       "      <th>time_remaining</th>\n",
       "      <th>home_poss</th>\n",
       "      <th>diff</th>\n",
       "      <th>OT_ind</th>\n",
       "      <th>home_team_win</th>\n",
       "    </tr>\n",
       "  </thead>\n",
       "  <tbody>\n",
       "    <tr>\n",
       "      <th>0</th>\n",
       "      <td>21500001</td>\n",
       "      <td>2880</td>\n",
       "      <td>0.0</td>\n",
       "      <td>0.0</td>\n",
       "      <td>0.0</td>\n",
       "      <td>0.0</td>\n",
       "    </tr>\n",
       "    <tr>\n",
       "      <th>1</th>\n",
       "      <td>21500001</td>\n",
       "      <td>2880</td>\n",
       "      <td>1.0</td>\n",
       "      <td>0.0</td>\n",
       "      <td>0.0</td>\n",
       "      <td>0.0</td>\n",
       "    </tr>\n",
       "    <tr>\n",
       "      <th>4</th>\n",
       "      <td>21500001</td>\n",
       "      <td>2877</td>\n",
       "      <td>1.0</td>\n",
       "      <td>0.0</td>\n",
       "      <td>0.0</td>\n",
       "      <td>0.0</td>\n",
       "    </tr>\n",
       "    <tr>\n",
       "      <th>7</th>\n",
       "      <td>21500001</td>\n",
       "      <td>2874</td>\n",
       "      <td>1.0</td>\n",
       "      <td>0.0</td>\n",
       "      <td>0.0</td>\n",
       "      <td>0.0</td>\n",
       "    </tr>\n",
       "    <tr>\n",
       "      <th>10</th>\n",
       "      <td>21500001</td>\n",
       "      <td>2871</td>\n",
       "      <td>1.0</td>\n",
       "      <td>0.0</td>\n",
       "      <td>0.0</td>\n",
       "      <td>0.0</td>\n",
       "    </tr>\n",
       "    <tr>\n",
       "      <th>...</th>\n",
       "      <td>...</td>\n",
       "      <td>...</td>\n",
       "      <td>...</td>\n",
       "      <td>...</td>\n",
       "      <td>...</td>\n",
       "      <td>...</td>\n",
       "    </tr>\n",
       "    <tr>\n",
       "      <th>21386831</th>\n",
       "      <td>22001080</td>\n",
       "      <td>9</td>\n",
       "      <td>1.0</td>\n",
       "      <td>5.0</td>\n",
       "      <td>0.0</td>\n",
       "      <td>1.0</td>\n",
       "    </tr>\n",
       "    <tr>\n",
       "      <th>21386834</th>\n",
       "      <td>22001080</td>\n",
       "      <td>6</td>\n",
       "      <td>1.0</td>\n",
       "      <td>5.0</td>\n",
       "      <td>0.0</td>\n",
       "      <td>1.0</td>\n",
       "    </tr>\n",
       "    <tr>\n",
       "      <th>21386837</th>\n",
       "      <td>22001080</td>\n",
       "      <td>3</td>\n",
       "      <td>0.0</td>\n",
       "      <td>5.0</td>\n",
       "      <td>0.0</td>\n",
       "      <td>1.0</td>\n",
       "    </tr>\n",
       "    <tr>\n",
       "      <th>21386838</th>\n",
       "      <td>22001080</td>\n",
       "      <td>3</td>\n",
       "      <td>1.0</td>\n",
       "      <td>5.0</td>\n",
       "      <td>0.0</td>\n",
       "      <td>1.0</td>\n",
       "    </tr>\n",
       "    <tr>\n",
       "      <th>21386841</th>\n",
       "      <td>22001080</td>\n",
       "      <td>0</td>\n",
       "      <td>0.0</td>\n",
       "      <td>5.0</td>\n",
       "      <td>0.0</td>\n",
       "      <td>1.0</td>\n",
       "    </tr>\n",
       "  </tbody>\n",
       "</table>\n",
       "<p>7176637 rows × 6 columns</p>\n",
       "</div>"
      ],
      "text/plain": [
       "           GAME_ID  time_remaining  home_poss  diff  OT_ind  home_team_win\n",
       "0         21500001            2880        0.0   0.0     0.0            0.0\n",
       "1         21500001            2880        1.0   0.0     0.0            0.0\n",
       "4         21500001            2877        1.0   0.0     0.0            0.0\n",
       "7         21500001            2874        1.0   0.0     0.0            0.0\n",
       "10        21500001            2871        1.0   0.0     0.0            0.0\n",
       "...            ...             ...        ...   ...     ...            ...\n",
       "21386831  22001080               9        1.0   5.0     0.0            1.0\n",
       "21386834  22001080               6        1.0   5.0     0.0            1.0\n",
       "21386837  22001080               3        0.0   5.0     0.0            1.0\n",
       "21386838  22001080               3        1.0   5.0     0.0            1.0\n",
       "21386841  22001080               0        0.0   5.0     0.0            1.0\n",
       "\n",
       "[7176637 rows x 6 columns]"
      ]
     },
     "execution_count": 110,
     "metadata": {},
     "output_type": "execute_result"
    }
   ],
   "source": [
    "final"
   ]
  },
  {
   "cell_type": "code",
   "execution_count": 116,
   "id": "a3969c4c-7e11-42fc-b666-6728a33ef0cf",
   "metadata": {},
   "outputs": [],
   "source": [
    "group = final.groupby('time_remaining').get_group(3)"
   ]
  },
  {
   "cell_type": "code",
   "execution_count": 117,
   "id": "ce9fbf12-50a2-42d3-b566-10956f9ae98e",
   "metadata": {},
   "outputs": [
    {
     "data": {
      "text/plain": [
       "1.0    4989\n",
       "0.0    3702\n",
       "Name: home_team_win, dtype: int64"
      ]
     },
     "execution_count": 117,
     "metadata": {},
     "output_type": "execute_result"
    }
   ],
   "source": [
    "group['home_team_win'].value_counts()"
   ]
  },
  {
   "cell_type": "code",
   "execution_count": null,
   "id": "92df8a48-f145-4b5c-96fe-1cc5efa19f9b",
   "metadata": {},
   "outputs": [],
   "source": [
    "final.groupby('time_remaining')"
   ]
  },
  {
   "cell_type": "code",
   "execution_count": 119,
   "id": "899fe70e-4f8b-4bde-840c-04749e32ee50",
   "metadata": {},
   "outputs": [],
   "source": [
    "final.to_csv('../Data/pbp_modelling_data.csv', index=False)"
   ]
  },
  {
   "cell_type": "code",
   "execution_count": null,
   "id": "9785438d-a608-472e-b614-9bc5c71cdca0",
   "metadata": {},
   "outputs": [],
   "source": []
  }
 ],
 "metadata": {
  "kernelspec": {
   "display_name": "Python 3 (ipykernel)",
   "language": "python",
   "name": "python3"
  },
  "language_info": {
   "codemirror_mode": {
    "name": "ipython",
    "version": 3
   },
   "file_extension": ".py",
   "mimetype": "text/x-python",
   "name": "python",
   "nbconvert_exporter": "python",
   "pygments_lexer": "ipython3",
   "version": "3.9.4"
  }
 },
 "nbformat": 4,
 "nbformat_minor": 5
}
